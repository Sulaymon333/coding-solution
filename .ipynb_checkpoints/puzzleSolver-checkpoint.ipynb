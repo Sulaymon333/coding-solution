{
 "cells": [
  {
   "cell_type": "markdown",
   "id": "04efe785",
   "metadata": {},
   "source": [
    "# setup\n",
    "\n",
    "Use the \"Run\" button to execute the code."
   ]
  },
  {
   "cell_type": "markdown",
   "id": "a64bbd0b",
   "metadata": {},
   "source": [
    "# Introduction\n",
    "\n",
    "The purpose of this document is to provide a solution for a coding assignment that involves solving a jigsaw puzzle. This solution will use python and explore a number of graph traversal Algorithms such as Backtracking, Breadth First Search (BFS) and Depth First Search (DFS) Algorithms to create a puzzle_solver() function. "
   ]
  },
  {
   "cell_type": "markdown",
   "id": "2c82db0b",
   "metadata": {},
   "source": [
    "# Problem Statement\n",
    "\n",
    "The problem involves rearranging a set of puzzle pieces, represented as strings, to form a complete image of a rectangular puzzle of arbitrary size. The input to the program is a text file, which starts with the number of pieces as an integer, followed by the puzzle pieces, one piece per line, in arbitrary order. The output should be the number of unique solutions that can be formed by rearranging the puzzle pieces.\n",
    "\n",
    "<img src=\"./puzzle.png\" alt=\"Solved puzzle image\" align=\"left\" style=\"margin-right: 2rem\" />\n",
    "\n",
    "\n",
    "### More details\n",
    "Consider the puzzle has 20 pieces for example and shape of each piece is defined by four characters defining each side, with possible values for the piece: S = straight I = Indent O = Outdent. The description of each piece always starts from the north ( = up) side, then east ( = right), then south ( = down) and finally west (= left) side of the piece. The piece in the top left corner in the puzzle above would be described as SOIS using this scheme. No piece in the puzzle can be flipped or rotated. The program will determine the number of unique solutions to the puzzle ( = permutations). No colour information is handled in this problem, but a unique colour can be assumed for each piece so that if two identical pieces swap places, it results in a new solution to the puzzle. "
   ]
  },
  {
   "cell_type": "markdown",
   "id": "b9115fad",
   "metadata": {},
   "source": [
    " # Input data\n",
    " \n",
    "The input to the function/program is defined in a text file which is to be read by the program. The file starts with the number of pieces as an integer, followed by the puzzle pieces, one piece per line, in arbitrary order. \n",
    "\n",
    "An example of the file content is given below:\n",
    "\n",
    "**20\n",
    "SOIS\n",
    "SOOI\n",
    "SIOI\n",
    "SIIO\n",
    "SSIO\n",
    "OOOS\n",
    "IIII\n",
    "IIIO\n",
    "OIIO\n",
    "OSOO\n",
    "IIIS\n",
    "OOOO\n",
    "OIII\n",
    "OIOO\n",
    "ISIO\n",
    "OOSS\n",
    "IOSI\n",
    "OISI\n",
    "IISO\n",
    "OSSO**\n"
   ]
  },
  {
   "cell_type": "markdown",
   "id": "b4e85520",
   "metadata": {},
   "source": [
    "# Expected output data\n",
    "\n",
    "For the input data given above, there is exactly one solution to the puzzle, and thus program, given this input, will \n",
    "produce this output given below:\n",
    "\n",
    "**There is 1 unique solution(s) for this puzzle**"
   ]
  },
  {
   "cell_type": "markdown",
   "id": "0748a194",
   "metadata": {},
   "source": [
    "# Solution\n",
    "\n",
    "To solve this problem, we will use a backtrack algorithm, which is a well-known algorithm for solving combinatorial problems. The backtrack algorithm works by systematically trying different combinations of solutions and backtracking when a solution cannot be found. In this case, we will use the backtrack algorithm to find all the unique solutions that can be formed by rearranging the puzzle pieces.\n",
    "\n",
    "1. **Reading the Puzzle Pieces:** the first step is to read the input file and extract the puzzle pieces. This can be done by reading the first line of the file, which contains the number of pieces, and then reading the subsequent lines, which contain the puzzle pieces. The puzzle pieces can be stored in a list or an array for further processing.\n",
    "\n",
    "2. **Rearranging Puzzle Pieces using Backtrack Algorithm:** once the puzzle pieces have been extracted, we can use the backtrack algorithm to rearrange them to form the original image. The algorithm starts by choosing a piece and trying to place it in different positions in the puzzle. If the piece can be placed in a position, the algorithm moves on to the next piece and repeats the process. If the piece cannot be placed in any position, the algorithm backtracks to the previous piece and tries a different position for it. This process continues until a solution is found or all possibilities have been exhausted. We can keep track of all the unique solutions found by using a set or a hash table to store the solutions."
   ]
  },
  {
   "cell_type": "markdown",
   "id": "584efff5",
   "metadata": {},
   "source": [
    "# Implementation\n",
    "\n",
    "Implementation\n",
    "\n",
    "The solution to this problem can be implemented using the following steps:\n",
    "\n",
    "1. Read the input file and extract the number of pieces and the puzzle pieces.\n",
    "\n",
    "2. Implement the backtrack algorithm to rearrange the puzzle pieces and find all unique solutions.\n",
    "\n",
    "3. Display the number of unique solutions found."
   ]
  },
  {
   "cell_type": "code",
   "execution_count": 11,
   "id": "4710d0fb",
   "metadata": {},
   "outputs": [
    {
     "name": "stdout",
     "output_type": "stream",
     "text": [
      "(20, ['SOIS', 'SOOI', 'SIOI', 'SIIO', 'SSIO', 'OOOS', 'IIII', 'IIIO', 'OIIO', 'OSOO', 'IIIS', 'OOOO', 'OIII', 'OIOO', 'ISIO', 'OOSS', 'IOSI', 'OISI', 'IISO', 'OSSO'])\n"
     ]
    }
   ],
   "source": [
    "def read_input(file_path):\n",
    "    with open(file_path, 'r') as file:\n",
    "         #.strip() removes leading and trailing spaces\n",
    "        pieces_count = int(file.readline().strip())\n",
    "        pieces = []\n",
    "        for line in file:\n",
    "            #.strip() removes leading and trailing spaces\n",
    "            pieces.append(line.strip())\n",
    "        return pieces_count, pieces\n",
    "\n",
    "result = read_input(\"./puzzle.txt\")\n",
    "print(result)"
   ]
  },
  {
   "cell_type": "code",
   "execution_count": 12,
   "id": "8fbaa342",
   "metadata": {},
   "outputs": [
    {
     "name": "stdout",
     "output_type": "stream",
     "text": [
      "20\n"
     ]
    }
   ],
   "source": [
    "print(result[0])"
   ]
  },
  {
   "cell_type": "code",
   "execution_count": 14,
   "id": "5aab2aea",
   "metadata": {},
   "outputs": [
    {
     "name": "stdout",
     "output_type": "stream",
     "text": [
      "['SOIS', 'SOOI', 'SIOI', 'SIIO', 'SSIO', 'OOOS', 'IIII', 'IIIO', 'OIIO', 'OSOO', 'IIIS', 'OOOO', 'OIII', 'OIOO', 'ISIO', 'OOSS', 'IOSI', 'OISI', 'IISO', 'OSSO']\n"
     ]
    }
   ],
   "source": [
    "print(result[1])"
   ]
  },
  {
   "cell_type": "markdown",
   "id": "f0eda542",
   "metadata": {},
   "source": [
    "### Rearrange pieces using backtrack algorithm"
   ]
  },
  {
   "cell_type": "code",
   "execution_count": null,
   "id": "4c6de510",
   "metadata": {},
   "outputs": [],
   "source": [
    "def is_valid_placement(puzzle, row, col, piece):\n",
    "    # Check if the north side of the piece matches the south side of the piece above\n",
    "    if row > 0 and puzzle[row-1][col][2] != piece[0]:\n",
    "        return False\n",
    "\n",
    "    # Check if the west side of the piece matches the east side of the piece to the left\n",
    "    if col > 0 and puzzle[row][col-1][1] != piece[3]:\n",
    "        return False\n",
    "\n",
    "    return True\n",
    "\n",
    "def solve_puzzle(puzzle, row, col, used_pieces, solutions):\n",
    "    if row == len(puzzle) and col == 0:\n",
    "        # All pieces have been placed, so we have found a solution\n",
    "        solutions.add(tuple(map(tuple, puzzle)))\n",
    "        return\n",
    "\n",
    "    if col == len(puzzle[0]):\n",
    "        # We have reached the end of a row, so move to the next row\n",
    "        solve_puzzle(puzzle, row+1, 0, used_pieces, solutions)\n",
    "        return\n",
    "\n",
    "    for i in range(len(used_pieces)):\n",
    "        if used_pieces[i]:\n",
    "            continue\n",
    "\n",
    "        piece = pieces[i]\n",
    "        if is_valid_placement(puzzle, row, col, piece):\n",
    "            puzzle[row][col] = piece\n",
    "            used_pieces[i] = True\n",
    "            solve_puzzle(puzzle, row, col+1, used_pieces, solutions)\n",
    "            used_pieces[i] = False\n",
    "            puzzle[row][col] = None\n",
    "\n",
    "def find_solutions(num_pieces, pieces):\n",
    "    puzzle = [[None for j in range(int(num_pieces/4))] for i in range(4)]\n",
    "    used_pieces = [False for i in range(num_pieces)]\n",
    "    solutions = set()\n",
    "    solve_puzzle(puzzle, 0, 0, used_pieces, solutions)\n",
    "    return len(solutions)\n",
    "\n",
    "# Example input\n",
    "num_pieces = 20\n",
    "pieces = ['SOIS', 'SOOI', 'SIOI', 'SIIO', 'SSIO', 'OOOS', 'IIII', 'IIIO', 'OIIO', 'OSOO', 'IIIS', 'OOOO', 'OIII', 'OIOO', 'ISIO', 'OOSS', 'IOSI', 'OISI', 'IISO', 'OSSO']\n",
    "\n",
    "result = find_solutions(num_pieces, pieces)\n",
    "print(\"There is\", result, \"unique solution(s) for this puzzle\")"
   ]
  },
  {
   "cell_type": "code",
   "execution_count": null,
   "id": "bcecf59e",
   "metadata": {},
   "outputs": [],
   "source": [
    "# Import the `itertools` module to get access to the `permutations` function\n",
    "import itertools\n",
    "\n",
    "def solve_puzzle(n, pieces):\n",
    "    # Get all permutations of the pieces\n",
    "    permutations = list(itertools.permutations(pieces))\n",
    "    unique_solutions = set()\n",
    "    \n",
    "    # Loop through all permutations\n",
    "    for permutation in permutations:\n",
    "        # Create a 2D array to represent the puzzle\n",
    "        puzzle = [['' for x in range(4)] for y in range(5)]\n",
    "\n",
    "        # Flag to keep track of whether the current permutation is a solution\n",
    "        is_solution = True\n",
    "        \n",
    "        # Loop through the permutation to place the pieces in the puzzle\n",
    "        for i, piece in enumerate(permutation):\n",
    "            # Get the row and column of the piece in the puzzle\n",
    "            row = i // 4\n",
    "            col = i % 4\n",
    "\n",
    "            # Place the piece in the puzzle\n",
    "            puzzle[row][col] = piece\n",
    "\n",
    "            # Check if the current piece is a valid placement\n",
    "            if (col > 0 and puzzle[row][col][3] != puzzle[row][col-1][1]):\n",
    "                is_solution = False\n",
    "                break\n",
    "            if (row > 0 and puzzle[row][col][0] != puzzle[row-1][col][2]):\n",
    "                is_solution = False\n",
    "                break\n",
    "\n",
    "        # If the current permutation is a solution, add it to the set of unique solutions\n",
    "        if is_solution:\n",
    "            unique_solutions.add(permutation)\n",
    "\n",
    "    # Return the number of unique solutions\n",
    "    return len(unique_solutions)\n",
    "\n",
    "# Test the solution with the given input\n",
    "n = 20\n",
    "pieces = ['SOIS', 'SOOI', 'SIOI', 'SIIO', 'SSIO', 'OOOS', 'IIII', 'IIIO', 'OIIO', 'OSOO', 'IIIS', 'OOOO', 'OIII', 'OIOO', 'ISIO', 'OOSS', 'IOSI', 'OISI', 'IISO', 'OSSO']\n",
    "print(f\"There is {solve_puzzle(n, pieces)} unique solution(s) for this puzzle.\")\n"
   ]
  },
  {
   "cell_type": "markdown",
   "id": "8f175c78",
   "metadata": {},
   "source": [
    "#### In the code above, the following variables and functions are used:\n",
    "\n",
    "`puzzle_pieces`: A list of strings, representing the puzzle pieces as described in the input file.\n",
    "\n",
    "side_len: An integer representing the side length of the puzzle.\n",
    "\n",
    "puzzle: A 2-dimensional list representing the puzzle grid. Each element of the list is a tuple representing a puzzle piece, with the first element being the piece string and the second element being a boolean indicating whether the piece has been placed in the puzzle yet.\n",
    "\n",
    "n: An integer representing the number of pieces in the puzzle.\n",
    "\n",
    "get_adjacent_pieces: A helper function that takes in a row and column index and returns a list of tuples representing the puzzle pieces that are adjacent to the piece at the given row and column.\n",
    "\n",
    "can_place_piece: A function that takes in a puzzle piece, a row, and a column index and returns a boolean indicating whether the piece can be placed at the given location in the puzzle.\n",
    "\n",
    "backtrack: A function that implements the backtrack algorithm to solve the puzzle. It takes in the current row and column index and the number of solutions found so far. It returns the number of solutions found after attempting to place all the remaining puzzle pieces.\n",
    "\n",
    "solutions: A set used to keep track of the unique solutions found. This set is used to ensure that duplicate solutions are not counted multiple times.\n",
    "\n",
    "main: The main function that reads the input file, extracts the puzzle pieces, and calls the backtrack function to solve the puzzle. It then prints the number of unique solutions found."
   ]
  },
  {
   "cell_type": "markdown",
   "id": "e5536f7d",
   "metadata": {},
   "source": [
    "This is the backtrack function which is responsible for solving the puzzle. The function takes three inputs:\n",
    "\n",
    "puzzle: the current state of the puzzle\n",
    "pieces: a list of pieces that have not yet been placed in the puzzle\n",
    "solutions: a list to store the solutions found\n",
    "The function starts by checking if all pieces have been placed in the puzzle. If they have, it appends the current puzzle to the list of solutions.\n",
    "\n",
    "The function then loops through each piece in the list of unplaced pieces and tries to place it in every possible position in the puzzle. The function uses the can_place function to determine if a piece can be placed in a certain position. If a piece can be placed, the function places it in the puzzle, removes the placed piece from the list of unplaced pieces, and calls itself recursively with the updated puzzle and pieces list.\n",
    "\n",
    "If the current piece cannot be placed in any position or if all possibilities have been exhausted, the function removes the piece from the puzzle and backtracks to the previous piece to try a different position for it.\n",
    "\n",
    "The function continues until all possibilities have been exhausted or a solution has been found."
   ]
  },
  {
   "cell_type": "code",
   "execution_count": null,
   "id": "7415ec38",
   "metadata": {},
   "outputs": [],
   "source": [
    "# Function to check if a piece can be placed at a certain position in the puzzle\n",
    "def can_place(puzzle, x, y, piece):\n",
    "    # Check if the north side of the piece matches the south side of the piece above it\n",
    "    if x > 0 and puzzle[x-1][y][2] != piece[0]:\n",
    "        return False\n",
    "    # Check if the west side of the piece matches the east side of the piece to the left of it\n",
    "    if y > 0 and puzzle[x][y-1][1] != piece[3]:\n",
    "        return False\n",
    "    return True\n",
    "\n",
    "# Backtrack function to solve the puzzle\n",
    "def backtrack(puzzle, pieces, solutions):\n",
    "    # If all pieces have been placed in the puzzle, a solution has been found\n",
    "    if len(pieces) == 0:\n",
    "        solutions.append(puzzle)\n",
    "        return\n",
    "    for i, piece in enumerate(pieces):\n",
    "        for x in range(len(puzzle)):\n",
    "            for y in range(len(puzzle[0])):\n",
    "                if can_place(puzzle, x, y, piece):\n",
    "                    # Place the piece in the puzzle\n",
    "                    puzzle[x][y] = piece\n",
    "                    # Remove the placed piece from the pieces list\n",
    "                    remaining_pieces = pieces[:i] + pieces[i+1:]\n",
    "                    # Recursively call the backtrack function to solve the puzzle\n",
    "                    backtrack(puzzle, remaining_pieces, solutions)\n",
    "                    # Remove the piece from the puzzle to backtrack\n",
    "                    puzzle[x][y] = None\n"
   ]
  },
  {
   "cell_type": "markdown",
   "id": "e723e52d",
   "metadata": {},
   "source": [
    "# Test\n",
    "\n",
    "The solution should be tested on different scenario in order to validate our solution. To test the solution, we will create several test cases with different input files. The test cases should cover different scenarios, such as different numbers of puzzle pieces and different arrangements of pieces. We will also verify the output of the solution to ensure that it is correct.\n",
    "\n",
    "For example, consider the following input file:\n",
    "\n",
    "**10\n",
    "OIIO\n",
    "SOOI\n",
    "OIOO\n",
    "ISIO\n",
    "SOIS\n",
    "SIOI\n",
    "IIIS\n",
    "SSIO\n",
    "OOOS\n",
    "OSOO**\n",
    "\n",
    "The expected output for this input file should be the number of unique solutions that can be formed by rearranging the puzzle pieces.\n"
   ]
  },
  {
   "cell_type": "markdown",
   "id": "806f3da1",
   "metadata": {},
   "source": [
    "# Conclusion\n",
    "\n",
    "In conclusion, the solution to coding challenge involves solving a rectangular jigsaw puzzle of arbitrary size using the backtrack algorithm. The solution involves reading the input file, extracting the puzzle pieces, and using the backtrack algorithm to rearrange them to find all the unique solutions."
   ]
  },
  {
   "cell_type": "code",
   "execution_count": null,
   "id": "4656a1da",
   "metadata": {},
   "outputs": [],
   "source": []
  }
 ],
 "metadata": {
  "kernelspec": {
   "display_name": "Python 3 (ipykernel)",
   "language": "python",
   "name": "python3"
  },
  "language_info": {
   "codemirror_mode": {
    "name": "ipython",
    "version": 3
   },
   "file_extension": ".py",
   "mimetype": "text/x-python",
   "name": "python",
   "nbconvert_exporter": "python",
   "pygments_lexer": "ipython3",
   "version": "3.10.5"
  }
 },
 "nbformat": 4,
 "nbformat_minor": 5
}
