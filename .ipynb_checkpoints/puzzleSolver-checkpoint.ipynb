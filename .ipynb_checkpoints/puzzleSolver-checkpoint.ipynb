{
 "cells": [
  {
   "cell_type": "markdown",
   "id": "04efe785",
   "metadata": {},
   "source": [
    "# setup\n",
    "\n",
    "After this notebook has finished loading, follow the steps below to run the notebook:\n",
    "1. Click `Kernel` button above\n",
    "2. Select `Restart & Run All`to see the output of each cell all at once\n",
    "3. Select `Restart and Clear output`to clear the output of all the cells at once\n",
    "4. In case you run a cell individually, make sure you run all the cells above it that contains variables reference in that particular cell."
   ]
  },
  {
   "cell_type": "markdown",
   "id": "a64bbd0b",
   "metadata": {},
   "source": [
    "# Introduction\n",
    "\n",
    "The purpose of this document is to provide a solution to a coding assignment that involves solving a jigsaw puzzle. This solution will use python and might explore a number of graph traversal Algorithms such as Backtracking (brute force), Breadth-First Search (BFS) and Depth-First Search (DFS) Algorithms to create a puzzle_solver() program. "
   ]
  },
  {
   "cell_type": "markdown",
   "id": "2c82db0b",
   "metadata": {},
   "source": [
    "# Problem Statement\n",
    "\n",
    "The problem involves rearranging a set of puzzle pieces, represented as strings, to form a complete image of a rectangular puzzle of arbitrary size. The input to the program is a text file, which starts with the number of pieces as an integer, followed by the puzzle pieces, one piece per line, in arbitrary order. The output should be the number of unique solutions that can be formed by rearranging the puzzle pieces.\n",
    "\n",
    "<img src=\"./puzzle.png\" alt=\"Solved puzzle image\" align=\"left\" style=\"margin-right: 2rem\" />\n",
    "\n",
    "\n",
    "### More details\n",
    "Consider the puzzle has 20 pieces for example and shape of each piece is defined by four characters defining each side, with possible values for the piece: S = straight I = Indent O = Outdent. The description of each piece always starts from the north ( = up) side, then east ( = right), then south ( = down) and finally west (= left) side of the piece. The piece in the top left corner in the puzzle above would be described as SOIS using this scheme. No piece in the puzzle can be flipped or rotated. The program will determine the number of unique solutions to the puzzle ( = permutations). No colour information is handled in this problem, but a unique colour can be assumed for each piece so that if two identical pieces swap places, it results in a new solution to the puzzle. "
   ]
  },
  {
   "cell_type": "markdown",
   "id": "b9115fad",
   "metadata": {},
   "source": [
    " # Input data\n",
    " \n",
    "The input to the function/program is defined in a text file which is to be read by the program. The file starts with the number of pieces as an integer, followed by the puzzle pieces, one piece per line, in arbitrary order. \n",
    "\n",
    "An example of the file content is given below:\n",
    "\n",
    "**20\n",
    "SOIS\n",
    "SOOI\n",
    "SIOI\n",
    "SIIO\n",
    "SSIO\n",
    "OOOS\n",
    "IIII\n",
    "IIIO\n",
    "OIIO\n",
    "OSOO\n",
    "IIIS\n",
    "OOOO\n",
    "OIII\n",
    "OIOO\n",
    "ISIO\n",
    "OOSS\n",
    "IOSI\n",
    "OISI\n",
    "IISO\n",
    "OSSO**\n"
   ]
  },
  {
   "cell_type": "markdown",
   "id": "b4e85520",
   "metadata": {},
   "source": [
    "# Expected output data\n",
    "\n",
    "For the input data given above, there is exactly one solution to the puzzle, and thus program, given this input, will \n",
    "produce this output given below:\n",
    "\n",
    "**There is 1 unique solution(s) for this puzzle**"
   ]
  },
  {
   "cell_type": "markdown",
   "id": "0748a194",
   "metadata": {},
   "source": [
    "# Solution\n",
    "\n",
    "To solve this problem, we will use a backtrack algorithm, which is a well-known algorithm for solving combinatorial problems. The backtrack algorithm works by systematically trying different combinations of solutions and backtracking when a solution cannot be found. In this case, we will use the backtrack algorithm to find all the unique solutions that can be formed by rearranging the puzzle pieces.\n",
    "\n",
    "1. **Reading the Puzzle Pieces:** the first step is to read the input file and extract the puzzle pieces. This can be done by reading the first line of the file, which contains the number of pieces, and then reading the subsequent lines, which contain the puzzle pieces. The puzzle pieces can be stored in a list or an array for further processing.\n",
    "\n",
    "2. **Rearranging Puzzle Pieces using Backtrack Algorithm:** once the puzzle pieces have been extracted, we can use the backtrack algorithm to rearrange them to form the original image. The algorithm starts by choosing a piece and trying to place it in different positions in the puzzle. If the piece can be placed in a position, the algorithm moves on to the next piece and repeats the process. If the piece cannot be placed in any position, the algorithm backtracks to the previous piece and tries a different position for it. This process continues until a solution is found or all possibilities have been exhausted. We can keep track of all the unique solutions found by using a set or a hash table to store the solutions."
   ]
  },
  {
   "cell_type": "markdown",
   "id": "584efff5",
   "metadata": {},
   "source": [
    "# Implementation\n",
    "\n",
    "Implementation\n",
    "\n",
    "The solution to this problem can be implemented using the following steps:\n",
    "\n",
    "1. Read the input file and extract the number of pieces and the puzzle pieces.\n",
    "\n",
    "2. Implement the backtrack algorithm to rearrange the puzzle pieces and find all unique solutions.\n",
    "\n",
    "3. Display the number of unique solutions found."
   ]
  },
  {
   "cell_type": "code",
   "execution_count": 1,
   "id": "4710d0fb",
   "metadata": {},
   "outputs": [
    {
     "name": "stdout",
     "output_type": "stream",
     "text": [
      "(20, ['SOIS', 'SOOI', 'SIOI', 'SIIO', 'SSIO', 'OOOS', 'IIII', 'IIIO', 'OIIO', 'OSOO', 'IIIS', 'OOOO', 'OIII', 'OIOO', 'ISIO', 'OOSS', 'IOSI', 'OISI', 'IISO', 'OSSO'])\n"
     ]
    }
   ],
   "source": [
    "def read_input(file_path):\n",
    "    with open(file_path, 'r') as file:\n",
    "         #.strip() removes leading and trailing spaces\n",
    "        pieces_count = int(file.readline().strip())\n",
    "        pieces = []\n",
    "        for line in file:\n",
    "            #.strip() removes leading and trailing spaces\n",
    "            pieces.append(line.strip())\n",
    "        return pieces_count, pieces\n",
    "\n",
    "result = read_input(\"./puzzle.txt\")\n",
    "print(result)"
   ]
  },
  {
   "cell_type": "code",
   "execution_count": 2,
   "id": "8fbaa342",
   "metadata": {},
   "outputs": [
    {
     "name": "stdout",
     "output_type": "stream",
     "text": [
      "20\n"
     ]
    }
   ],
   "source": [
    "print(result[0])"
   ]
  },
  {
   "cell_type": "code",
   "execution_count": 3,
   "id": "5aab2aea",
   "metadata": {},
   "outputs": [
    {
     "name": "stdout",
     "output_type": "stream",
     "text": [
      "['SOIS', 'SOOI', 'SIOI', 'SIIO', 'SSIO', 'OOOS', 'IIII', 'IIIO', 'OIIO', 'OSOO', 'IIIS', 'OOOO', 'OIII', 'OIOO', 'ISIO', 'OOSS', 'IOSI', 'OISI', 'IISO', 'OSSO']\n"
     ]
    }
   ],
   "source": [
    "print(result[1])"
   ]
  },
  {
   "cell_type": "markdown",
   "id": "f0eda542",
   "metadata": {},
   "source": [
    "### Rearrange pieces using backtrack algorithm"
   ]
  },
  {
   "cell_type": "code",
   "execution_count": 4,
   "id": "4c6de510",
   "metadata": {},
   "outputs": [
    {
     "name": "stdout",
     "output_type": "stream",
     "text": [
      "There is 144 unique solution(s) for this puzzle\n"
     ]
    }
   ],
   "source": [
    "def is_valid_placement(puzzle, row, col, piece):\n",
    "    # Check if the north side of the piece matches the south side of the piece above\n",
    "    if row > 0 and puzzle[row-1][col][2] != piece[0]:\n",
    "        return False\n",
    "\n",
    "    # Check if the west side of the piece matches the east side of the piece to the left\n",
    "    if col > 0 and puzzle[row][col-1][1] != piece[3]:\n",
    "        return False\n",
    "\n",
    "    return True\n",
    "\n",
    "def solve_puzzle(puzzle, row, col, used_pieces, solutions):\n",
    "    if row == len(puzzle) and col == 0:\n",
    "        # All pieces have been placed, so we have found a solution\n",
    "        solutions.add(tuple(map(tuple, puzzle)))\n",
    "        return\n",
    "\n",
    "    if col == len(puzzle[0]):\n",
    "        # We have reached the end of a row, so move to the next row\n",
    "        solve_puzzle(puzzle, row+1, 0, used_pieces, solutions)\n",
    "        return\n",
    "\n",
    "    for i in range(len(used_pieces)):\n",
    "        if used_pieces[i]:\n",
    "            continue\n",
    "\n",
    "        piece = pieces[i]\n",
    "        if is_valid_placement(puzzle, row, col, piece):\n",
    "            puzzle[row][col] = piece\n",
    "            used_pieces[i] = True\n",
    "            solve_puzzle(puzzle, row, col+1, used_pieces, solutions)\n",
    "            used_pieces[i] = False\n",
    "            puzzle[row][col] = None\n",
    "\n",
    "def find_solutions(num_pieces, pieces):\n",
    "    puzzle = [[None for j in range(int(num_pieces/4))] for i in range(4)]\n",
    "    used_pieces = [False for i in range(num_pieces)]\n",
    "    solutions = set()\n",
    "    solve_puzzle(puzzle, 0, 0, used_pieces, solutions)\n",
    "    return len(solutions)\n",
    "\n",
    "# Example input\n",
    "num_pieces = result[0]\n",
    "pieces = result[1]\n",
    "result = find_solutions(num_pieces, pieces)\n",
    "print(\"There is\", result, \"unique solution(s) for this puzzle\")"
   ]
  },
  {
   "cell_type": "markdown",
   "id": "4d1d67ad",
   "metadata": {},
   "source": [
    "### Code explanation\n",
    "\n",
    "The code above is a solution to the puzzle where given a set of pieces represnted by string pieces and the number of pieces, it tries to find the number of unique solutions possible to fit the pieces into a 4x(n/4) grid.\n",
    "\n",
    "After reading in the file and getting the number of piece and the string of each piece. this section of the solution is then implemneted. The results from reading the file is used in this solution as well.\n",
    "\n",
    "The code is divided into three functions:\n",
    "\n",
    "1. `is_valid_placement` function - This function takes a puzzle, a row, a column, and a piece, and checks if the piece can be placed in the current position in the puzzle. It checks if the north side of the piece matches the south side of the piece above it and if the west side of the piece matches the east side of the piece to the left of it. If both conditions are satisfied, it returns True, else False. This is considered for pieces that are not at the edge of the puzzle.\n",
    "<br/>\n",
    "\n",
    "2. `solve_puzzle function` - This is the main function that implements the backtracking algorithm to find the solutions to the puzzle. It takes the puzzle, current row and column, a list to keep track of the used pieces, and a set to store all the unique solutions. The function first checks if the row and col parameters are equal to the length of the puzzle, and col is 0. If both conditions are satisfied, it means all pieces have been placed and a solution has been found, and the puzzle is added to the set of solutions. The function then checks if col is equal to the length of the puzzle column. If this is true, it means the end of a row has been reached, so the row is incremented, and the function is called again. <br/> <br/>Finally, the function loops through all the pieces and checks if each piece has been used already. If not, it checks if the piece is a valid placement in the current position by calling the is_valid_placement function. If the placement is valid, the piece is placed, the used_pieces list is updated, and the function is called again. Once the function returns, the piece is removed, the used_pieces list is updated again, and the loop continues until all pieces have been tried for that position.\n",
    "<br/>\n",
    "\n",
    "3. `find_solutions` function - This function is primarily meant to help test the solution. it takes the number of pieces and the pieces (arry of strings) as input, initializes the puzzle, used_pieces list, and solutions set, and calls the solve_puzzle function to find all the solutions. Finally, it returns the number of solutions in the set.<br/><br/>At the last part of the solution, some input sample read from the file is provided to the function and the number of unique solutions is printed."
   ]
  },
  {
   "cell_type": "markdown",
   "id": "e723e52d",
   "metadata": {},
   "source": [
    "# Test\n",
    "\n",
    "The solution should be tested on different scenario in order to validate our solution. To test the solution, we will create several test cases with different input files. The test cases should cover different scenarios, such as different numbers of puzzle pieces and different arrangements of pieces. We will also verify the output of the solution to ensure that it is correct.\n",
    "\n",
    "For example, consider the following input file:\n",
    "\n",
    "**10\n",
    "OIIO\n",
    "SOOI\n",
    "OIOO\n",
    "ISIO\n",
    "SOIS\n",
    "SIOI\n",
    "IIIS\n",
    "SSIO\n",
    "OOOS\n",
    "OSOO**\n",
    "\n",
    "The expected output for this input file should be the number of unique solutions that can be formed by rearranging the puzzle pieces.\n",
    "\n",
    "#### Other edge cases that can be considered includes but not limited to the following\n",
    "- first line of the input file is not a number - the solution should take of this and return an appropriate error message to the user\n",
    "- to check the validity of the string of the piece based on the provided contraints and return an appropriate error message to the user\n",
    "- to check the length of the strings (pieces) if it is less than or more than 4, an appropriate error message should be returned ro the user\n",
    "- if any of the pieces is not a data type of string, an appriate error message should be returned to the user\n",
    "- if the puzzle size and the number of pieces can not form a rectangular shape but square (for example - 9, 16, 25, etc), an appropriate message should be returned to the user\n",
    "- if the first line of the input file (amount of pieces) does not match the total number of pieces, an appropriate error message should be returned to the user\n",
    "- if there is more than one piece with thesame string, this might not be an issue. I could not come up with a way to verify this based on the constraints given\n",
    "- And probably some other edge cases I am not able to think of yet"
   ]
  },
  {
   "cell_type": "markdown",
   "id": "806f3da1",
   "metadata": {},
   "source": [
    "# Conclusion\n",
    "\n",
    "In conclusion, the solution to coding challenge involves solving a rectangular jigsaw puzzle of arbitrary size using the backtrack algorithm. The solution involves reading the input file, extracting the puzzle pieces, and using the backtrack algorithm to rearrange them to find all the unique solutions. Although the actual result does not match the expected result. I belive further tuning of the implementation will eventually yield the desired results."
   ]
  }
 ],
 "metadata": {
  "kernelspec": {
   "display_name": "Python 3 (ipykernel)",
   "language": "python",
   "name": "python3"
  },
  "language_info": {
   "codemirror_mode": {
    "name": "ipython",
    "version": 3
   },
   "file_extension": ".py",
   "mimetype": "text/x-python",
   "name": "python",
   "nbconvert_exporter": "python",
   "pygments_lexer": "ipython3",
   "version": "3.10.5"
  }
 },
 "nbformat": 4,
 "nbformat_minor": 5
}
